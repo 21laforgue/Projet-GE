{
 "cells": [
  {
   "cell_type": "markdown",
   "metadata": {},
   "source": [
    "# Etude d'une centrale solaire électrique à effet cheminée #"
   ]
  },
  {
   "cell_type": "markdown",
   "metadata": {},
   "source": [
    "## <u> Partie 1:</u> Etude thermique simplifiée ##"
   ]
  },
  {
   "cell_type": "markdown",
   "metadata": {},
   "source": [
    "**Question 1.1**"
   ]
  },
  {
   "cell_type": "markdown",
   "metadata": {},
   "source": [
    "**Question 1.2**"
   ]
  },
  {
   "cell_type": "markdown",
   "metadata": {},
   "source": [
    "**Question 1.3**"
   ]
  },
  {
   "cell_type": "markdown",
   "metadata": {},
   "source": [
    "**Question 1.4**"
   ]
  },
  {
   "cell_type": "markdown",
   "metadata": {},
   "source": [
    "##  <u>Partie 2:</u> Etude aéraulique simplifiée ##"
   ]
  },
  {
   "cell_type": "markdown",
   "metadata": {},
   "source": [
    "**Question 2.1**"
   ]
  },
  {
   "cell_type": "markdown",
   "metadata": {},
   "source": [
    "On applique le Principe Fondamental de la Statique des Fluides entre 1' et 2':\n",
    "\n",
    "$$ P_{1'} - P_{2'} = \\rho_{ext} g H_c \\implies \\boxed{P_{2'} = P_0 - \\rho_{ext} g H_c}$$\n",
    "\n",
    "En effet, 1' est l'entrée de la cheminée et on est à pression atmosphérique donc $P_{1'} = P_0$.\n",
    "\n",
    "On note par ailleurs que $$\\rho_{ext} = \\dfrac{P_0}{r_{air} T_{ext}}$$"
   ]
  },
  {
   "cell_type": "markdown",
   "metadata": {},
   "source": [
    "**Question 2.2**"
   ]
  },
  {
   "cell_type": "markdown",
   "metadata": {},
   "source": [
    "On applique le théorème de Bernoulli entre 1' et 2, puisque nous avons ici une masse volumique constante et que nous négligeons les pertes de charges.\n",
    "On obtient alors: \n",
    "\n",
    "$$\n",
    "P_{1'} - P_{2} = \\rho_{c} g H_c + \\dfrac{1}{2} \\rho_c (v_{max}^{2} - v_{1'}^{2})\n",
    "$$\n",
    "\n",
    "<u>Hypothèses:</u>\n",
    "\n",
    "- On est à une altitude $H_c$ donc on peut égaler en sortie de cheminée $P_2$ à $P_{2'}$.\n",
    "- On considère l'air comme un gaz parfait donc $$\\rho_{c} = \\dfrac{P_0}{r_{air} T_{acm}}$$\n",
    "- La vitesse quadratique de l'air à l'entrée de la serre est négligeable devant celle en sortie de cheminée: $$v_{max}^{2} >> v_{1'}^{2}$$\n",
    "\n",
    "En combinant avec la question précédente, on obtient: \n",
    "\n",
    "$$\n",
    "\\rho_{ext} g H_c = \\rho_{c} g H_c + \\dfrac{1}{2} \\rho_c (v_{max}^{2} - v_{1'}^{2}) \\implies v_{max}^{2} \\simeq 2 g H_c (\\dfrac{\\rho_{ext}}{\\rho_{c}} - 1) \\implies \\boxed{v_{max} = \\sqrt{2 g H_c (\\dfrac{T_{acm}}{T_{ext}} - 1)}}\n",
    "$$\n",
    "\n",
    "Alors on se place sur une section de la cheminée de surface \n",
    "$$S = \\frac{\\pi D_{ci}^2}{4} \\implies \\boxed{q_{m, max} = \\frac{P_0 \\pi D_{ci}^2}{4 r_{air} T_{acm}} \\sqrt{2 g H_c (\\frac{T_{acm}}{T_{ext}} - 1)}}\n",
    "$$"
   ]
  },
  {
   "cell_type": "markdown",
   "metadata": {},
   "source": [
    "**Question 2.3**"
   ]
  },
  {
   "cell_type": "markdown",
   "metadata": {},
   "source": [
    "Par définition, la puissance est le produit du débit volumique et de la pression.\n",
    "Comme nous considérons qu'il n'y a pas de perte de charge, on peut calculer la puissance dans la cheminée.\n",
    "\n",
    "On se place par exemple au point 2:\n",
    "$$\n",
    "P_{max} = q_{m, max} \\dfrac{P_0}{\\rho_{c}} \\implies \\boxed{P_{max} = \\frac{P_0 \\pi D_{ci}^2}{4} \\sqrt{2 g H_c (\\frac{T_{acm}}{T_{ext}} - 1)}}\n",
    "$$\n",
    "\n",
    "Le flux solaire incident sur la Terre s'exprime comme \n",
    "$$\n",
    "P_{solaire} = \\varphi S_{serre} = \\varphi \\dfrac{\\pi D_{c}^{2}}{4}\n",
    "$$\n",
    "\n",
    "Ainsi, le rendement maximal s'écrit : \n",
    "\n",
    "$$\n",
    "\\boxed{\\eta_{max} = \\dfrac{D_{ci}^2}{D_{c}^2} \\dfrac{P_0 \\sqrt{2 g H_c (\\frac{T_{acm}}{T_{ext}} - 1)}}{\\varphi}}\n",
    "$$"
   ]
  },
  {
   "cell_type": "markdown",
   "metadata": {},
   "source": [
    "**Question 2.4**"
   ]
  },
  {
   "cell_type": "markdown",
   "metadata": {},
   "source": []
  }
 ],
 "metadata": {
  "kernelspec": {
   "display_name": "Python 3 (ipykernel)",
   "language": "python",
   "name": "python3"
  },
  "language_info": {
   "codemirror_mode": {
    "name": "ipython",
    "version": 3
   },
   "file_extension": ".py",
   "mimetype": "text/x-python",
   "name": "python",
   "nbconvert_exporter": "python",
   "pygments_lexer": "ipython3",
   "version": "3.9.5"
  }
 },
 "nbformat": 4,
 "nbformat_minor": 2
}
