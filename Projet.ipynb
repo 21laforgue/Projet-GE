{
 "cells": [
  {
   "cell_type": "markdown",
   "metadata": {},
   "source": [
    "# Etude d'une centrale solaire électrique à effet cheminée #"
   ]
  },
  {
   "cell_type": "markdown",
   "metadata": {},
   "source": [
    "## <u> Partie 1:</u> Etude thermique simplifiée ##"
   ]
  },
  {
   "cell_type": "markdown",
   "metadata": {},
   "source": [
    "**Question 1.1**"
   ]
  },
  {
   "cell_type": "markdown",
   "metadata": {},
   "source": [
    "### Bilan d'enthalpie sur le sol"
   ]
  },
  {
   "cell_type": "markdown",
   "metadata": {},
   "source": [
    "Le sol est considéré comme étant une phase condensée ($C_p$ constant) à température homogène, il n'y a donc pas de variation d'enthalpie: le bilan se ramène à un bilan sur les flux:\n",
    "\n",
    "\n",
    "\\begin{align*}\n",
    "\\Phi_{entrant} &= \\Phi_{sortant}  \\\\  \n",
    "\\Phi_{solaire \\ transmis} &= \\underbrace{\\Phi_{convectif \\ sol}} &+ \\underbrace{\\Phi_{radiatif \\ verre}}\\\\\n",
    "\\tau \\varphi  &= h_{cs}(T_{psm}-T_{asm})  &+  h_r(T_{psm}-T_{pvm}) \n",
    "\\end{align*}"
   ]
  },
  {
   "cell_type": "markdown",
   "metadata": {},
   "source": [
    "### Bilan d'enthalpie sur le vitrage de la serre"
   ]
  },
  {
   "cell_type": "markdown",
   "metadata": {},
   "source": [
    "De même on se ramène à un bilan de flux\n",
    "\n",
    "\n",
    "\\begin{align*}\n",
    "\\Phi_{entrant} &= \\Phi_{sortant}  \\\\  \n",
    "\\Phi_{solaire \\ absorbé} + \\underbrace{\\Phi_{radiatif \\ sol}} &= \\underbrace{\\Phi_{convectif \\ intérieur \\ serre}} &+ \\underbrace{\\Phi_{convectif \\ exterieur \\ serre}} \\\\\n",
    "\\alpha \\varphi + h_r(T_{psm}-T_{pvm}) &= h_{cv}(T_{pvm}-T_{asm})  &+  h_{es}(T_{pvm}-T_{ext}) \n",
    "\\end{align*}"
   ]
  },
  {
   "cell_type": "markdown",
   "metadata": {},
   "source": [
    "### Bilan d'enthalpie sur l'air de la serre"
   ]
  },
  {
   "cell_type": "markdown",
   "metadata": {},
   "source": [
    "#### Calcul de la vitesse de l'air"
   ]
  },
  {
   "cell_type": "markdown",
   "metadata": {},
   "source": [
    "On calcule v(D), la vitesse de l'air dans la serre en fonction du diametre D ou l'on se trouve, ceci sera utile par la suite:\n",
    "\n",
    "\n",
    "On sait que $q_m^0$ constant et $q_m^0 = S v \\rho$  \n",
    "En considérant que l'air est un GP à la pression globalement constante dans la serre ($P_0$ la pression extérieure) (sytème totalement ouvert, convection naturelle), on trouve l'expression de $\\rho$ :   \n",
    "$$\\rho = \\frac{P_0}{rT}$$  \n",
    "D'où en faisant le calcul sur un cylindre de diamètre D, de hauteur $H_s$:   \n",
    "$$ v = \\frac{q_m^0 r T}{\\pi DP_0} $$  \n",
    "En particulier pour $D=D_{ci}$  , ie $ T=T_{ass}= 2T_{asm}-T_{ext}$:  \n",
    "$$ \\boxed{v = \\frac{q_m^0 r (2T_{asm}-T_{ext})}{\\pi D_{ci}P_0}}$$"
   ]
  },
  {
   "cell_type": "markdown",
   "metadata": {},
   "source": [
    "#### Bilan"
   ]
  },
  {
   "cell_type": "markdown",
   "metadata": {},
   "source": [
    "Cette fois ci la température de l'air n'est pas constante dans la zone et le $C_p$ varie en fonction de T, on réalise un premier principe pour les fluides en écoulement:\n",
    "\n",
    "\\begin{align*}\n",
    "    q_m^0\\Delta (h + e_c+ \\underbrace{e_p}_{=0}) &= P_{th} + \\underbrace{P_u}_{=0} \\\\\n",
    "    q_m^0\\left( \\int_{T_{ase} = T_{ext}} ^{T_{ass} = 2T_{asm}-T_{ext}} C_p(T) dT + \\frac{v_{ace}^2}{2}\\right) &= \\underbrace{\\Phi_{convectif \\ intérieur \\ serre}} &+ \\underbrace{\\Phi_{convectif \\ sol}} \\\\\n",
    "    q_m^0\\left( \\int_{T_{ext}} ^{2T_{asm}-T_{ext}} C_p(T) dT + \\frac{1}{2}\\left(\n",
    "\\frac{q_m^0 r (2T_{asm}-T_{ext})}{\\pi DP_0}\\right)^2\\right) &= h_{cv}(T_{pvm}-T_{asm}) &+h_cs(T_{psm}-T_{asm})\\\\\n",
    "\\end{align*}"
   ]
  },
  {
   "cell_type": "markdown",
   "metadata": {},
   "source": [
    "### Bilan d'enthalpie pour la cheminée"
   ]
  },
  {
   "cell_type": "markdown",
   "metadata": {},
   "source": [
    "De même on réalise un premier principe en écoulement:\n",
    "\\begin{align*}\n",
    "    q_m^0\\Delta (h + e_p+ \\underbrace{e_c}_{=0}) &= P_{th} + \\underbrace{P_u}_{=0} \\textrm{cette fois on néglige la variation d'énergie cinétique, car la section est constante, la masse volumique semble peu changer}\\\\\n",
    "    q_m^0\\left( \\int_{T_{ace} = T_{ass}= 2T_{asm}-T_{ext}} ^{T_{acs} = 2(T_{acm}-T_{asm})+T_{ext}} C_p(T) dT + \\frac{v_{ace}^2}{2}\\right) &= \\underbrace{\\Phi_{echange \\ paroi }} \\\\\n",
    "    q_m^0\\left( \\int_{2T_{asm}-T_{ext}} ^{2(T_{acm}-T_{asm})+T_{ext}} C_p(T) dT + \\frac{1}{2}\\left(\n",
    "\\frac{q_m^0 r (2T_{asm}-T_{ext})}{\\pi DP_0}\\right)^2\\right) &= \\frac{(T_{ext}-T_{acm})}{R_{th}} \\textrm{On adopte ici le modèle de résistance thermique puisque l'on se situe en régime stationnaire sans terme de production dans le béton}\\\\\n",
    "\\end{align*}\n",
    "\n",
    "Calcul de $R_{th}$ :   \n",
    "Il faut prendre en compte le deux flux conducto-convectifs à l'intérieur et à l'extérieur de la cheminée,\n",
    "ainsi que la conduction dans le béton, ce qui fait 3 résistance en série.\n",
    "\n",
    "\n",
    "$$\\boxed{R_{th} = \\frac{1}{h_{cc} \\pi D_{ci} H_c} + \\underbrace{\\frac{ln(\\frac{D_{ce}}{D_{ci}})}{2 \\pi \\lambda_b H_c}}_{resistance \\ en \\ cylindrique} + \\frac{1}{h_{ec} \\pi D_ce H_c}} $$"
   ]
  },
  {
   "cell_type": "markdown",
   "metadata": {},
   "source": [
    "En utilisant $C_p = -0.00000018628(273 + T)^3 + 0.00045653(273 + T)^2 - 0.1361(273 + T) +1009$ pour l'air on a donc toutes les informations pour calculer les 4 températures moyennes (4 équations indépendantes, 4 inconnues). Nous allons donc résoudre numériquement, les équations n'étant pas linéaires."
   ]
  },
  {
   "cell_type": "markdown",
   "metadata": {},
   "source": [
    "### Résolution numérique"
   ]
  },
  {
   "cell_type": "code",
   "execution_count": 2,
   "metadata": {},
   "outputs": [],
   "source": [
    "from scipy.optimize import fsolve\n",
    "from scipy.integrate import quad\n",
    "import numpy as np"
   ]
  },
  {
   "cell_type": "code",
   "execution_count": 3,
   "metadata": {},
   "outputs": [],
   "source": [
    "# les grandeurs suivantes sont toutes en unité SI\n",
    "Ds = 7000\n",
    "Hs = 30\n",
    "es = 0.006\n",
    "Dci = 100\n",
    "Dce = 101\n",
    "Hc = 1000\n",
    "As =  np.pi*((Ds/2)**2 -(Dce/2)**2)\n",
    "Aci = Hc*np.pi*Dci\n",
    "Ace = Hc*np.pi*Dce\n",
    "Ac = 2*np.pi* (Dci/2)**2\n",
    "lambda_b = 2.3\n",
    "alpha = 0.05\n",
    "tau = 0.85\n",
    "hr = 5\n",
    "hes = 19\n",
    "hec = 40\n",
    "hcv = 11\n",
    "hcs = 10\n",
    "hcc = 12\n",
    "Rth = 1/(Aci*hcc) + 1/(Ace*hec) + np.log(Dce/Dci) /(2*np.pi*lambda_b*Hc)\n",
    "KS = 1/Rth\n",
    "Text = 25\n",
    "Phi = 600\n",
    "qm = 2.0 * 10**5\n",
    "roh_ext = 1.29\n",
    "g = 9.8\n",
    "P0 = 100000\n",
    "r = 287"
   ]
  },
  {
   "cell_type": "code",
   "execution_count": 4,
   "metadata": {},
   "outputs": [],
   "source": [
    "def f(T):\n",
    "        return -0.00000018628*(273 + T)**3 + 0.00045653*(273 + T)**2 - 0.1361*(273 + T) +1009\n",
    "def Delta_H(Ti, Tf):\n",
    "    return quad(f, Ti, Tf)[0]\n",
    "    \n"
   ]
  },
  {
   "cell_type": "code",
   "execution_count": 9,
   "metadata": {},
   "outputs": [],
   "source": [
    "def fun(T):\n",
    "    L = [0]*4\n",
    "    #bilan sur le sol\n",
    "    L[0] = hcs*(T[0]-T[2]) + hr*(T[0]-T[1]) - tau*Phi\n",
    "    #bilan sur le vitrage de la serre\n",
    "    L[1] = -hr*(T[0]-T[1]) - alpha*Phi + hes*(T[1]-Text) + hcv*(T[1]-T[2])\n",
    "    #bilan ppour l'air de la serre (entre l'entrée et l'arrivée dans le conduit de cheminée)\n",
    "    L[2] = hcs*(T[0]-T[2])*np.pi*(Ds/2)**2 + hcv*(T[1]-T[2])*As - qm*Delta_H(Text, 2*T[2]-Text)-qm**3/(2*(P0/(r*(2*T[2]-Text)))**2)*(1/(np.pi**2*Hs**2*Dci**2))\n",
    "    #bilan dans la cheminée\n",
    "    L[3] = (Text-T[3]) *KS - qm*Delta_H(2*T[2]-Text, 2*(T[3]-T[2]) + Text) - qm*g*Hc #-qm**3/(2*(P0/r*Ac)**2)*(1/(2*(T[3]-T[2]) + Text)**2 - 1/(2*T[2]-Text)**2)\n",
    "    return L\n"
   ]
  },
  {
   "cell_type": "code",
   "execution_count": 10,
   "metadata": {},
   "outputs": [],
   "source": [
    "sol = fsolve(fun, [25]*4, maxfev=10000)"
   ]
  },
  {
   "cell_type": "code",
   "execution_count": 11,
   "metadata": {},
   "outputs": [
    {
     "data": {
      "text/plain": [
       "([5.684341886080802e-14,\n",
       "  7.105427357601002e-14,\n",
       "  0.027714360738173127,\n",
       "  -0.2425835132598877],\n",
       " array([79.52182172, 40.83257202, 47.86644657, 65.77408049]))"
      ]
     },
     "execution_count": 11,
     "metadata": {},
     "output_type": "execute_result"
    }
   ],
   "source": [
    "fun(sol), sol"
   ]
  },
  {
   "cell_type": "code",
   "execution_count": 12,
   "metadata": {},
   "outputs": [
    {
     "name": "stdout",
     "output_type": "stream",
     "text": [
      "Tpsm =  79.52182171987933 / Texpected =  79.5\n",
      "Tpvm =  40.83257202413347 / Texpected =  40.8\n",
      "Tasm =  47.86644656775225 / Texpected =  47.9\n",
      "Tacm =  65.77408048912348 / Texpected =  70.6\n"
     ]
    }
   ],
   "source": [
    "Intitule = [\"Tpsm\", \"Tpvm\", \"Tasm\", \"Tacm\"]\n",
    "Texpected = [79.5, 40.8, 47.9, 70.6 ]\n",
    "\n",
    "for i in range(4):\n",
    "    print(Intitule[i] + \" = \", sol[i], \"/ Texpected = \", Texpected[i])\n"
   ]
  },
  {
   "cell_type": "markdown",
   "metadata": {},
   "source": [
    "**Question 1.2**"
   ]
  },
  {
   "cell_type": "markdown",
   "metadata": {},
   "source": [
    "cf résolution ci dessus"
   ]
  },
  {
   "cell_type": "markdown",
   "metadata": {},
   "source": [
    "**Question 1.3**"
   ]
  },
  {
   "cell_type": "code",
   "execution_count": 27,
   "metadata": {},
   "outputs": [
    {
     "name": "stdout",
     "output_type": "stream",
     "text": [
      "Tacs = 60.81526784274246\n",
      "Tace = Tass = 70.7328931355045\n",
      "Tase = 25\n"
     ]
    }
   ],
   "source": [
    "Tpsm, Tpvm, Tasm, Tacm = sol\n",
    "Tase = Text\n",
    "Tass = 2*Tasm - Tase\n",
    "Tace = Tass\n",
    "Tacs = 2*Tacm - Tace\n",
    "print(f\"Tacs = {Tacs}\")\n",
    "print(f\"Tace = Tass = {Tace}\")\n",
    "print(f\"Tase = {Tase}\")"
   ]
  },
  {
   "cell_type": "markdown",
   "metadata": {},
   "source": [
    "On remarque ici une différence bien plus nette de température dans la serre entre l'entrée et la sortie, tandis que dans la cheminée elle est bien plus faible donc négligeable (seulement 5°C d'écart maximum) Ceci justifie l'approximation"
   ]
  },
  {
   "cell_type": "markdown",
   "metadata": {},
   "source": [
    "**Question 1.4**"
   ]
  },
  {
   "cell_type": "markdown",
   "metadata": {},
   "source": [
    "$$\n",
    "\\boxed{\\eta_{th} = \\frac{h_{cv}(T_{pvm}-T_{asm}) + h_{cs}(T_{psm}-T_{asm})}{\\varphi}}\n",
    "$$"
   ]
  },
  {
   "cell_type": "code",
   "execution_count": 31,
   "metadata": {},
   "outputs": [
    {
     "name": "stdout",
     "output_type": "stream",
     "text": [
      "Le rendement thermique de la serre est de 0.39863521923577366\n"
     ]
    }
   ],
   "source": [
    "print(f\"Le rendement thermique de la serre est de {(hcv*(Tpvm-Tasm) + hcs*(Tpsm-Tasm))/Phi}\")\n"
   ]
  },
  {
   "cell_type": "markdown",
   "metadata": {},
   "source": [
    "On a donc un rendement de la serre plutôt faible, ce qui ne peux laisser esperer un rendement mécanique (turbine) très élevé !\n",
    "\n",
    "$$\n",
    "\\boxed{\\eta_{th} = 0,399}\n",
    "$$"
   ]
  },
  {
   "cell_type": "markdown",
   "metadata": {},
   "source": [
    "##  <u>Partie 2:</u> Etude aéraulique simplifiée ##"
   ]
  },
  {
   "cell_type": "markdown",
   "metadata": {},
   "source": [
    "**Question 2.1**"
   ]
  },
  {
   "cell_type": "markdown",
   "metadata": {},
   "source": [
    "On applique le Principe Fondamental de la Statique des Fluides entre 1' et 2':\n",
    "\n",
    "$$ P_{1'} - P_{2'} = \\rho_{ext} g H_c \\implies \\boxed{P_{2'} = P_0 - \\rho_{ext} g H_c}$$\n",
    "\n",
    "En effet, 1' est l'entrée de la cheminée et on est à pression atmosphérique donc $P_{1'} = P_0$.\n",
    "\n",
    "On note par ailleurs que $$\\rho_{ext} = \\dfrac{P_0}{r_{air} T_{ext}}$$"
   ]
  },
  {
   "cell_type": "markdown",
   "metadata": {},
   "source": [
    "**Question 2.2**"
   ]
  },
  {
   "cell_type": "markdown",
   "metadata": {},
   "source": [
    "On applique le théorème de Bernoulli entre 1' et 2, puisque nous avons ici une masse volumique constante et que nous négligeons les pertes de charges.\n",
    "On obtient alors: \n",
    "\n",
    "$$\n",
    "P_{1'} - P_{2} = \\rho_{c} g H_c + \\dfrac{1}{2} \\rho_c (v_{max}^{2} - v_{1'}^{2})\n",
    "$$\n",
    "\n",
    "<u>Hypothèses:</u>\n",
    "\n",
    "- On est à une altitude $H_c$ donc on peut égaler en sortie de cheminée $P_2$ à $P_{2'}$.\n",
    "- On considère l'air comme un gaz parfait donc $$\\rho_{c} = \\dfrac{P_0}{r_{air} T_{acm}}$$\n",
    "- La vitesse quadratique de l'air à l'entrée de la serre est négligeable devant celle en sortie de cheminée: $$v_{max}^{2} >> v_{1'}^{2}$$\n",
    "\n",
    "En combinant avec la question précédente, on obtient: \n",
    "\n",
    "$$\n",
    "\\rho_{ext} g H_c = \\rho_{c} g H_c + \\dfrac{1}{2} \\rho_c (v_{max}^{2} - v_{1'}^{2}) \\implies v_{max}^{2} \\simeq 2 g H_c (\\dfrac{\\rho_{ext}}{\\rho_{c}} - 1) \\implies \\boxed{v_{max} = \\sqrt{2 g H_c (\\dfrac{T_{acm}}{T_{ext}} - 1)}}\n",
    "$$\n",
    "\n",
    "Alors on se place sur une section de la cheminée de surface \n",
    "$$S = \\frac{\\pi D_{ci}^2}{4} \\implies \\boxed{q_{m, max} = \\frac{P_0 \\pi D_{ci}^2}{4 r_{air} T_{acm}} \\sqrt{2 g H_c (\\frac{T_{acm}}{T_{ext}} - 1)}}\n",
    "$$"
   ]
  },
  {
   "cell_type": "markdown",
   "metadata": {},
   "source": [
    "**Question 2.3**"
   ]
  },
  {
   "cell_type": "markdown",
   "metadata": {},
   "source": [
    "Par définition, la puissance est le produit du débit volumique et de la pression.\n",
    "Comme nous considérons qu'il n'y a pas de perte de charge, on peut calculer la puissance dans la cheminée.\n",
    "\n",
    "On se place par exemple au point 2:\n",
    "$$\n",
    "P_{max} = q_{m, max} \\dfrac{P_0}{\\rho_{c}} \\implies \\boxed{P_{max} = \\frac{P_0 \\pi D_{ci}^2}{4} \\sqrt{2 g H_c (\\frac{T_{acm}}{T_{ext}} - 1)}}\n",
    "$$\n",
    "\n",
    "Le flux solaire incident sur la Terre s'exprime comme \n",
    "$$\n",
    "P_{solaire} = \\varphi S_{serre} = \\varphi \\dfrac{\\pi D_{c}^{2}}{4}\n",
    "$$\n",
    "\n",
    "Ainsi, le rendement maximal s'écrit : \n",
    "\n",
    "$$\n",
    "\\boxed{\\eta_{max} = \\dfrac{D_{ci}^2}{D_{c}^2} \\dfrac{P_0 \\sqrt{2 g H_c (\\frac{T_{acm}}{T_{ext}} - 1)}}{\\varphi}}\n",
    "$$"
   ]
  },
  {
   "cell_type": "markdown",
   "metadata": {},
   "source": [
    "**Question 2.4**"
   ]
  },
  {
   "cell_type": "markdown",
   "metadata": {},
   "source": []
  }
 ],
 "metadata": {
  "kernelspec": {
   "display_name": "Python 3 (ipykernel)",
   "language": "python",
   "name": "python3"
  },
  "language_info": {
   "codemirror_mode": {
    "name": "ipython",
    "version": 3
   },
   "file_extension": ".py",
   "mimetype": "text/x-python",
   "name": "python",
   "nbconvert_exporter": "python",
   "pygments_lexer": "ipython3",
   "version": "3.9.1"
  }
 },
 "nbformat": 4,
 "nbformat_minor": 2
}
