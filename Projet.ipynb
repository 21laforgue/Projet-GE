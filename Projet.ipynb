{
 "cells": [
  {
   "cell_type": "markdown",
   "metadata": {},
   "source": [
    "# Etude d'une centrale solaire électrique à effet cheminée #"
   ]
  },
  {
   "cell_type": "markdown",
   "metadata": {},
   "source": [
    "## <u> Partie 1:</u> Etude thermique simplifiée ##"
   ]
  },
  {
   "cell_type": "markdown",
   "metadata": {},
   "source": [
    "**Question 1.1**"
   ]
  },
  {
   "cell_type": "markdown",
   "metadata": {},
   "source": [
    "**Question 1.2**"
   ]
  },
  {
   "cell_type": "markdown",
   "metadata": {},
   "source": [
    "**Question 1.3**"
   ]
  },
  {
   "cell_type": "markdown",
   "metadata": {},
   "source": [
    "**Question 1.4**"
   ]
  },
  {
   "cell_type": "markdown",
   "metadata": {},
   "source": [
    "##  <u>Partie 2:</u> Etude aéraulique simplifiée ##"
   ]
  },
  {
   "cell_type": "markdown",
   "metadata": {},
   "source": [
    "**Question 2.1**"
   ]
  },
  {
   "cell_type": "markdown",
   "metadata": {},
   "source": [
    "On applique le Principe Fondamental de la Statique des Fluides entre 1' et 2':\n",
    "\n",
    "$$ P_{1'} - P_{2'} = \\rho_{ext} g H_c \\implies \\boxed{P_{2'} = P_0 - \\rho_{ext} g H_c}$$\n",
    "\n",
    "En effet, 1' est l'entrée de la cheminée et on est à pression atmosphérique donc $P_{1'} = P_0$.\n",
    "\n",
    "On note par ailleurs que $$\\rho_{ext} = \\dfrac{P_0}{r_{air} T_{ext}}$$"
   ]
  },
  {
   "cell_type": "markdown",
   "metadata": {},
   "source": [
    "**Question 2.2**"
   ]
  },
  {
   "cell_type": "markdown",
   "metadata": {},
   "source": [
    "On applique le théorème de Bernoulli entre 1' et 2, puisque nous avons ici une masse volumique constante et que nous négligeons les pertes de charges.\n",
    "\n",
    "On obtient alors: \n",
    "\n",
    "$$\n",
    "P_{1'} - P_{2} = \\rho_{c} g H_c + \\dfrac{1}{2} \\rho_c (v_{max}^{2} - v_{1'}^{2})\n",
    "$$\n",
    "\n",
    "<u>Hypothèses:</u>\n",
    "\n",
    "- On est à une altitude $H_c$ donc on peut égaler en sortie de cheminée $P_2$ à $P_{2'}$.\n",
    "- On considère l'air comme un gaz parfait donc $$\\rho_{c} = \\dfrac{P_0}{r_{air} T_{acm}}$$\n",
    "- La vitesse quadratique de l'air à l'entrée de la serre est négligeable devant celle en sortie de cheminée: $$v_{max}^{2} >> v_{1'}^{2}$$\n",
    "\n",
    "En combinant avec la question précédente, on obtient: \n",
    "\n",
    "$$\n",
    "\\rho_{ext} g H_c = \\rho_{c} g H_c + \\dfrac{1}{2} \\rho_c (v_{max}^{2} - v_{1'}^{2}) \\implies v_{max}^{2} \\simeq 2 g H_c (\\dfrac{\\rho_{ext}}{\\rho_{c}} - 1) \\implies \\boxed{v_{max} = \\sqrt{2 g H_c (\\dfrac{T_{acm}}{T_{ext}} - 1)}}\n",
    "$$\n",
    "\n",
    "Alors on se place sur une section de la cheminée de surface \n",
    "$$S = \\frac{\\pi D_{ci}^2}{4} \\implies \\boxed{q_{m, max} = \\frac{P_0 \\pi D_{ci}^2}{4 r_{air} T_{acm}} \\sqrt{2 g H_c (\\frac{T_{acm}}{T_{ext}} - 1)}}\n",
    "$$"
   ]
  },
  {
   "cell_type": "markdown",
   "metadata": {},
   "source": [
    "**Question 2.3**"
   ]
  },
  {
   "cell_type": "markdown",
   "metadata": {},
   "source": [
    "Par définition, la puissance est le produit du débit volumique et de la pression.\n",
    "Comme nous considérons qu'il n'y a pas de perte de charge, on peut calculer la puissance dans la cheminée.\n",
    "\n",
    "On se place par exemple au point 2:\n",
    "$$\n",
    "P_{max} = q_{m, max} \\dfrac{P_0}{\\rho_{c}} \\implies \\boxed{P_{max} = \\frac{P_0 \\pi D_{ci}^2}{4} \\sqrt{2 g H_c (\\frac{T_{acm}}{T_{ext}} - 1)}}\n",
    "$$\n",
    "\n",
    "Le flux solaire incident sur la Terre s'exprime comme \n",
    "$$\n",
    "P_{solaire} = \\varphi S_{serre} = \\varphi \\dfrac{\\pi D_{c}^{2}}{4}\n",
    "$$\n",
    "\n",
    "Ainsi, le rendement maximal s'écrit : \n",
    "\n",
    "$$\n",
    "\\boxed{\\eta_{max} = \\dfrac{D_{ci}^2}{D_{c}^2} \\dfrac{P_0 \\sqrt{2 g H_c (\\frac{T_{acm}}{T_{ext}} - 1)}}{\\varphi}}\n",
    "$$"
   ]
  },
  {
   "cell_type": "markdown",
   "metadata": {},
   "source": [
    "**Question 2.4**"
   ]
  },
  {
   "cell_type": "markdown",
   "metadata": {},
   "source": [
    "On trouve:\n",
    "$$v_{max} = 54.79 m.s^{-1}$$"
   ]
  },
  {
   "cell_type": "code",
   "execution_count": 2,
   "metadata": {},
   "outputs": [],
   "source": [
    "import numpy as np"
   ]
  },
  {
   "cell_type": "code",
   "execution_count": 15,
   "metadata": {},
   "outputs": [],
   "source": [
    "#Données du problème\n",
    "g = 9.81\n",
    "Hc = 1000\n",
    "r_air = 287\n",
    "T_acm = 273 + 70.6\n",
    "T_ext = 273 + 25\n",
    "P_0 = 100000 \n",
    "D_ci = 100\n",
    "D_c = 7000\n",
    "phi = 600"
   ]
  },
  {
   "cell_type": "code",
   "execution_count": 16,
   "metadata": {},
   "outputs": [
    {
     "name": "stdout",
     "output_type": "stream",
     "text": [
      "La vitesse maximale est 54.792837429330575 m/s\n"
     ]
    }
   ],
   "source": [
    "#Calcul de la vitesse v_max\n",
    "v_max = np.sqrt(2 * g * Hc * ( (T_acm) / (T_ext) - 1) )\n",
    "print(\"La vitesse maximale est \" + str(v_max) + \" m/s\")"
   ]
  },
  {
   "cell_type": "code",
   "execution_count": 21,
   "metadata": {},
   "outputs": [
    {
     "name": "stdout",
     "output_type": "stream",
     "text": [
      "Le débit massique maximal est 436393.848737605 kg/s\n"
     ]
    }
   ],
   "source": [
    "#Calcul du débit massique q_max\n",
    "q_max = v_max * (P_0 * np.pi * (D_ci)**2)/(4 * r_air * T_acm)\n",
    "print(\"Le débit massique maximal est \" + str(q_max) + \" kg/s\")"
   ]
  },
  {
   "cell_type": "code",
   "execution_count": 23,
   "metadata": {},
   "outputs": [
    {
     "name": "stdout",
     "output_type": "stream",
     "text": [
      "La puissance maximale est 43034.193884331195 MW\n"
     ]
    }
   ],
   "source": [
    "#Calcul de la puissance maximale P_max\n",
    "P_max = v_max * (P_0 * np.pi * (D_ci)**2)/(4)\n",
    "print(\"La puissance maximale est \" + str(P_max/(10)**6) + \" MW\")"
   ]
  },
  {
   "cell_type": "code",
   "execution_count": 25,
   "metadata": {},
   "outputs": [
    {
     "name": "stdout",
     "output_type": "stream",
     "text": [
      "Le rendement maximal est 1.8637019533785908\n"
     ]
    }
   ],
   "source": [
    "#Calcul du rendemenet maximal r_max\n",
    "P_solaire = (phi * np.pi * (D_c)**2) / 4\n",
    "r_max = P_max / P_solaire\n",
    "print(\"Le rendement maximal est \" + str(r_max))"
   ]
  },
  {
   "cell_type": "code",
   "execution_count": 26,
   "metadata": {},
   "outputs": [
    {
     "data": {
      "text/plain": [
       "23090706003.88498"
      ]
     },
     "execution_count": 26,
     "metadata": {},
     "output_type": "execute_result"
    }
   ],
   "source": [
    "P_solaire"
   ]
  },
  {
   "cell_type": "code",
   "execution_count": null,
   "metadata": {},
   "outputs": [],
   "source": []
  }
 ],
 "metadata": {
  "kernelspec": {
   "display_name": "Python 3 (ipykernel)",
   "language": "python",
   "name": "python3"
  },
  "language_info": {
   "codemirror_mode": {
    "name": "ipython",
    "version": 3
   },
   "file_extension": ".py",
   "mimetype": "text/x-python",
   "name": "python",
   "nbconvert_exporter": "python",
   "pygments_lexer": "ipython3",
   "version": "3.9.5"
  }
 },
 "nbformat": 4,
 "nbformat_minor": 2
}
